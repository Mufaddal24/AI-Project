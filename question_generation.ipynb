{
 "cells": [
  {
   "cell_type": "code",
   "execution_count": 1,
   "id": "d768b17b",
   "metadata": {},
   "outputs": [
    {
     "name": "stdout",
     "output_type": "stream",
     "text": [
      "Collecting transformers==3.0.0\n",
      "  Using cached transformers-3.0.0-py3-none-any.whl (754 kB)\n",
      "Requirement already satisfied: filelock in c:\\users\\welcome\\appdata\\local\\programs\\python\\python310\\lib\\site-packages (from transformers==3.0.0) (3.7.1)\n",
      "Requirement already satisfied: tqdm>=4.27 in c:\\users\\welcome\\appdata\\local\\programs\\python\\python310\\lib\\site-packages (from transformers==3.0.0) (4.64.0)\n",
      "Requirement already satisfied: sentencepiece in c:\\users\\welcome\\appdata\\local\\programs\\python\\python310\\lib\\site-packages (from transformers==3.0.0) (0.1.96)\n",
      "Collecting sacremoses\n",
      "  Using cached sacremoses-0.0.53.tar.gz (880 kB)\n",
      "  Preparing metadata (setup.py): started\n",
      "  Preparing metadata (setup.py): finished with status 'done'\n",
      "Requirement already satisfied: regex!=2019.12.17 in c:\\users\\welcome\\appdata\\local\\programs\\python\\python310\\lib\\site-packages (from transformers==3.0.0) (2022.6.2)\n",
      "Requirement already satisfied: requests in c:\\users\\welcome\\appdata\\local\\programs\\python\\python310\\lib\\site-packages (from transformers==3.0.0) (2.27.1)\n",
      "Requirement already satisfied: packaging in c:\\users\\welcome\\appdata\\local\\programs\\python\\python310\\lib\\site-packages (from transformers==3.0.0) (21.3)\n",
      "Collecting tokenizers==0.8.0-rc4\n",
      "  Using cached tokenizers-0.8.0rc4.tar.gz (96 kB)\n",
      "  Installing build dependencies: started\n",
      "  Installing build dependencies: finished with status 'done'\n",
      "  Getting requirements to build wheel: started\n",
      "  Getting requirements to build wheel: finished with status 'done'\n",
      "  Preparing metadata (pyproject.toml): started\n",
      "  Preparing metadata (pyproject.toml): finished with status 'done'\n",
      "Requirement already satisfied: numpy in c:\\users\\welcome\\appdata\\local\\programs\\python\\python310\\lib\\site-packages (from transformers==3.0.0) (1.22.4)\n",
      "Requirement already satisfied: colorama in c:\\users\\welcome\\appdata\\local\\programs\\python\\python310\\lib\\site-packages (from tqdm>=4.27->transformers==3.0.0) (0.4.4)\n",
      "Requirement already satisfied: pyparsing!=3.0.5,>=2.0.2 in c:\\users\\welcome\\appdata\\local\\programs\\python\\python310\\lib\\site-packages (from packaging->transformers==3.0.0) (3.0.9)\n",
      "Requirement already satisfied: idna<4,>=2.5 in c:\\users\\welcome\\appdata\\local\\programs\\python\\python310\\lib\\site-packages (from requests->transformers==3.0.0) (3.3)\n",
      "Requirement already satisfied: charset-normalizer~=2.0.0 in c:\\users\\welcome\\appdata\\local\\programs\\python\\python310\\lib\\site-packages (from requests->transformers==3.0.0) (2.0.12)\n",
      "Requirement already satisfied: urllib3<1.27,>=1.21.1 in c:\\users\\welcome\\appdata\\local\\programs\\python\\python310\\lib\\site-packages (from requests->transformers==3.0.0) (1.26.9)\n",
      "Requirement already satisfied: certifi>=2017.4.17 in c:\\users\\welcome\\appdata\\local\\programs\\python\\python310\\lib\\site-packages (from requests->transformers==3.0.0) (2022.5.18.1)\n",
      "Requirement already satisfied: six in c:\\users\\welcome\\appdata\\local\\programs\\python\\python310\\lib\\site-packages (from sacremoses->transformers==3.0.0) (1.16.0)\n",
      "Requirement already satisfied: click in c:\\users\\welcome\\appdata\\local\\programs\\python\\python310\\lib\\site-packages (from sacremoses->transformers==3.0.0) (8.1.3)\n",
      "Requirement already satisfied: joblib in c:\\users\\welcome\\appdata\\local\\programs\\python\\python310\\lib\\site-packages (from sacremoses->transformers==3.0.0) (1.1.0)\n",
      "Using legacy 'setup.py install' for sacremoses, since package 'wheel' is not installed.\n",
      "Building wheels for collected packages: tokenizers\n",
      "  Building wheel for tokenizers (pyproject.toml): started\n",
      "  Building wheel for tokenizers (pyproject.toml): finished with status 'error'\n",
      "Failed to build tokenizers\n",
      "Note: you may need to restart the kernel to use updated packages.\n"
     ]
    },
    {
     "name": "stderr",
     "output_type": "stream",
     "text": [
      "  error: subprocess-exited-with-error\n",
      "  \n",
      "  × Building wheel for tokenizers (pyproject.toml) did not run successfully.\n",
      "  │ exit code: 1\n",
      "  ╰─> [48 lines of output]\n",
      "      C:\\Users\\Welcome\\AppData\\Local\\Temp\\pip-build-env-bumxxkh8\\overlay\\Lib\\site-packages\\setuptools\\dist.py:531: UserWarning: Normalizing '0.8.0.rc4' to '0.8.0rc4'\n",
      "        warnings.warn(tmpl.format(**locals()))\n",
      "      running bdist_wheel\n",
      "      running build\n",
      "      running build_py\n",
      "      creating build\n",
      "      creating build\\lib.win-amd64-cpython-310\n",
      "      creating build\\lib.win-amd64-cpython-310\\tokenizers\n",
      "      copying tokenizers\\__init__.py -> build\\lib.win-amd64-cpython-310\\tokenizers\n",
      "      creating build\\lib.win-amd64-cpython-310\\tokenizers\\models\n",
      "      copying tokenizers\\models\\__init__.py -> build\\lib.win-amd64-cpython-310\\tokenizers\\models\n",
      "      creating build\\lib.win-amd64-cpython-310\\tokenizers\\decoders\n",
      "      copying tokenizers\\decoders\\__init__.py -> build\\lib.win-amd64-cpython-310\\tokenizers\\decoders\n",
      "      creating build\\lib.win-amd64-cpython-310\\tokenizers\\normalizers\n",
      "      copying tokenizers\\normalizers\\__init__.py -> build\\lib.win-amd64-cpython-310\\tokenizers\\normalizers\n",
      "      creating build\\lib.win-amd64-cpython-310\\tokenizers\\pre_tokenizers\n",
      "      copying tokenizers\\pre_tokenizers\\__init__.py -> build\\lib.win-amd64-cpython-310\\tokenizers\\pre_tokenizers\n",
      "      creating build\\lib.win-amd64-cpython-310\\tokenizers\\processors\n",
      "      copying tokenizers\\processors\\__init__.py -> build\\lib.win-amd64-cpython-310\\tokenizers\\processors\n",
      "      creating build\\lib.win-amd64-cpython-310\\tokenizers\\trainers\n",
      "      copying tokenizers\\trainers\\__init__.py -> build\\lib.win-amd64-cpython-310\\tokenizers\\trainers\n",
      "      creating build\\lib.win-amd64-cpython-310\\tokenizers\\implementations\n",
      "      copying tokenizers\\implementations\\base_tokenizer.py -> build\\lib.win-amd64-cpython-310\\tokenizers\\implementations\n",
      "      copying tokenizers\\implementations\\bert_wordpiece.py -> build\\lib.win-amd64-cpython-310\\tokenizers\\implementations\n",
      "      copying tokenizers\\implementations\\byte_level_bpe.py -> build\\lib.win-amd64-cpython-310\\tokenizers\\implementations\n",
      "      copying tokenizers\\implementations\\char_level_bpe.py -> build\\lib.win-amd64-cpython-310\\tokenizers\\implementations\n",
      "      copying tokenizers\\implementations\\sentencepiece_bpe.py -> build\\lib.win-amd64-cpython-310\\tokenizers\\implementations\n",
      "      copying tokenizers\\implementations\\__init__.py -> build\\lib.win-amd64-cpython-310\\tokenizers\\implementations\n",
      "      copying tokenizers\\__init__.pyi -> build\\lib.win-amd64-cpython-310\\tokenizers\n",
      "      copying tokenizers\\models\\__init__.pyi -> build\\lib.win-amd64-cpython-310\\tokenizers\\models\n",
      "      copying tokenizers\\decoders\\__init__.pyi -> build\\lib.win-amd64-cpython-310\\tokenizers\\decoders\n",
      "      copying tokenizers\\normalizers\\__init__.pyi -> build\\lib.win-amd64-cpython-310\\tokenizers\\normalizers\n",
      "      copying tokenizers\\pre_tokenizers\\__init__.pyi -> build\\lib.win-amd64-cpython-310\\tokenizers\\pre_tokenizers\n",
      "      copying tokenizers\\processors\\__init__.pyi -> build\\lib.win-amd64-cpython-310\\tokenizers\\processors\n",
      "      copying tokenizers\\trainers\\__init__.pyi -> build\\lib.win-amd64-cpython-310\\tokenizers\\trainers\n",
      "      running build_ext\n",
      "      running build_rust\n",
      "      error: can't find Rust compiler\n",
      "      \n",
      "      If you are using an outdated pip version, it is possible a prebuilt wheel is available for this package but pip is not able to install from it. Installing from the wheel would avoid the need for a Rust compiler.\n",
      "      \n",
      "      To update pip, run:\n",
      "      \n",
      "          pip install --upgrade pip\n",
      "      \n",
      "      and then retry package installation.\n",
      "      \n",
      "      If you did intend to build this package from source, try installing a Rust compiler from your system package manager and ensure it is on the PATH during installation. Alternatively, rustup (available at https://rustup.rs) is the recommended way to download and update the Rust compiler toolchain.\n",
      "      [end of output]\n",
      "  \n",
      "  note: This error originates from a subprocess, and is likely not a problem with pip.\n",
      "  ERROR: Failed building wheel for tokenizers\n",
      "ERROR: Could not build wheels for tokenizers, which is required to install pyproject.toml-based projects\n"
     ]
    }
   ],
   "source": [
    "%pip install -U transformers==3.0.0"
   ]
  },
  {
   "cell_type": "code",
   "execution_count": 2,
   "id": "d8371825",
   "metadata": {},
   "outputs": [
    {
     "name": "stdout",
     "output_type": "stream",
     "text": [
      "Requirement already satisfied: pip in c:\\users\\welcome\\appdata\\local\\programs\\python\\python310\\lib\\site-packages (22.1.2)\n",
      "Note: you may need to restart the kernel to use updated packages.\n"
     ]
    }
   ],
   "source": [
    "%pip install --upgrade pip"
   ]
  },
  {
   "cell_type": "code",
   "execution_count": 3,
   "id": "fa0eb89e",
   "metadata": {},
   "outputs": [
    {
     "name": "stdout",
     "output_type": "stream",
     "text": [
      "Requirement already satisfied: nltk in c:\\users\\welcome\\appdata\\local\\programs\\python\\python310\\lib\\site-packages (3.7)\n",
      "Requirement already satisfied: joblib in c:\\users\\welcome\\appdata\\local\\programs\\python\\python310\\lib\\site-packages (from nltk) (1.1.0)\n",
      "Requirement already satisfied: tqdm in c:\\users\\welcome\\appdata\\local\\programs\\python\\python310\\lib\\site-packages (from nltk) (4.64.0)\n",
      "Requirement already satisfied: click in c:\\users\\welcome\\appdata\\local\\programs\\python\\python310\\lib\\site-packages (from nltk) (8.1.3)\n",
      "Requirement already satisfied: regex>=2021.8.3 in c:\\users\\welcome\\appdata\\local\\programs\\python\\python310\\lib\\site-packages (from nltk) (2022.6.2)\n",
      "Requirement already satisfied: colorama in c:\\users\\welcome\\appdata\\local\\programs\\python\\python310\\lib\\site-packages (from click->nltk) (0.4.4)\n",
      "Note: you may need to restart the kernel to use updated packages.\n"
     ]
    },
    {
     "name": "stderr",
     "output_type": "stream",
     "text": [
      "[nltk_data] Downloading package punkt to\n",
      "[nltk_data]     C:\\Users\\Welcome\\AppData\\Roaming\\nltk_data...\n",
      "[nltk_data]   Package punkt is already up-to-date!\n"
     ]
    },
    {
     "data": {
      "text/plain": [
       "True"
      ]
     },
     "execution_count": 3,
     "metadata": {},
     "output_type": "execute_result"
    }
   ],
   "source": [
    "%pip install nltk\n",
    "import nltk\n",
    "nltk.download('punkt')\n",
    "#!python -m nltk.downloader punkt"
   ]
  },
  {
   "cell_type": "code",
   "execution_count": 4,
   "id": "3c4c53d1",
   "metadata": {},
   "outputs": [
    {
     "name": "stderr",
     "output_type": "stream",
     "text": [
      "fatal: destination path 'question_generation' already exists and is not an empty directory.\n"
     ]
    }
   ],
   "source": [
    "!git clone https://github.com/patil-suraj/question_generation.git"
   ]
  },
  {
   "cell_type": "code",
   "execution_count": 9,
   "id": "47f46965",
   "metadata": {},
   "outputs": [],
   "source": [
    "text = \"Python is an interpreted, high-level, general-purpose programming language. Created by Guido van Rossum \\\n",
    "and first released in 1991, Python's design philosophy emphasizes code \\\n",
    "readability with its notable use of significant whitespace.\"\n",
    "\n",
    "text2 = \"Gravity (from Latin gravitas, meaning 'weight'), or gravitation, is a natural phenomenon by which all \\\n",
    "things with mass or energy—including planets, stars, galaxies, and even light—are brought toward (or gravitate toward) \\\n",
    "one another. On Earth, gravity gives weight to physical objects, and the Moon's gravity causes the ocean tides. \\\n",
    "The gravitational attraction of the original gaseous matter present in the Universe caused it to begin coalescing \\\n",
    "and forming stars and caused the stars to group together into galaxies, so gravity is responsible for many of \\\n",
    "the large-scale structures in the Universe. Gravity has an infinite range, although its effects become increasingly \\\n",
    "weaker as objects get further away\"\n",
    "\n",
    "text3 = \"42 is the answer to life, universe and everything.\"\n",
    "\n",
    "text4 = \"Forrest Gump is a 1994 American comedy-drama film directed by Robert Zemeckis and written by Eric Roth. \\\n",
    "It is based on the 1986 novel of the same name by Winston Groom and stars Tom Hanks, Robin Wright, Gary Sinise, \\\n",
    "Mykelti Williamson and Sally Field. The story depicts several decades in the life of Forrest Gump (Hanks), \\\n",
    "a slow-witted but kind-hearted man from Alabama who witnesses and unwittingly influences several defining \\\n",
    "historical events in the 20th century United States. The film differs substantially from the novel.\"\n",
    "\n",
    "text5 = \"The Bureau of Economics and Statistics, Andhra Pradesh(United) was constituted in 1956 amalgamating the Statistical Branch of Board of Revenue of the erstwhile Andhra State and the Bureau of Economics and Statistics of the erstwhile Hyderabad State. The role of Bureau of Economics and Statistics was initially confined to data collection , compilation, tabulation and dissemination. Bureau of Economics and Statistics was later re-designated as Directorate of Economics and Statistics. The Present Directorate of Economics and Statistics, Telangana was created on 2nd June , 2014. With increasing range of activities, Directorate of Economics and Statistics is the Centralized Statistical Organisation of the State for systematic collection, compilation, analysis and interpretation of Statistical data over a vast range of sectors relating to the State economy to guide and to meet the challenging needs of the Government. The Directorate of Economics and Statistics is declared as 'Nodal Agency' vide G.O.Ms. NO. 56, Finance and Planning (Plg.wing:PS) Department, Dated 26.10.1984 for the statistical activities in all the State Government Departments. It works in co-ordination with the National Sample Survey Organization (NSSO), and Central Statistical Organistion, Government of India for certain studies. The Directorate organizes adhoc studies depending on the requirements of the Government of Telangana and Government of India. Bullet Reports published and data compiled by the Directorate are used by several research organizations including Center for Economic and Social Studies (CESS) and Universities. The Planning Department of Government of Telangana uses the data for its activities. Directorate is headed by a Director and supported by Joint Directors , Deputy Directors , Assistant Directors , Statistical Officers, Deputy Statistical Officers, Assistant Statistical Officers and the ministerial staff. The manpower is comprised mostly of Statisticians and Economists at various levels. They are spread across the districts and sub-district level helping the systematic organization of statistical and socio-economical model building. Bullet Directorate operates as a 3-tier system viz Head Office, District Offices and Mandal Offices. It has a staff strength of about 921 with the staff of Assistant Statistical Officers working in Mandals. Computational activities are shared between the district offices, headed by Chief Planning Officers (CPO's) and the Head Office, headed by the Director. At mandal level an assistant statistical officer helps Mandal Revenue officer to compile the necessary data.\"\n",
    "\n",
    "text6 = '''MINISTRY OF LAW AND JUSTICE\n",
    "(Legislative Department)\n",
    "\n",
    "New Delhi, the 28th September, 2020/Asvina 6, 1942 (Saka)\n",
    "\n",
    "The following Act of Parliament received the assent of the President on the\n",
    "28th September, 2020 and is hereby published for general information: —\n",
    "\n",
    "THE BILATERAL NETTING OF QUALIFIED FINANCIAL\n",
    "CONTRACTS ACT, 2020\n",
    "\n",
    "No. 30 oF 2020\n",
    "[28th September, 2020.]\n",
    "\n",
    "An Act to ensure financial stability and promote competitiveness in Indian financial\n",
    "markets by providing enforceability of bilateral netting of qualified financial\n",
    "contracts and for matters connected therewith or incidental thereto.'''\n",
    "\n",
    "with open('C:\\C Notes\\python\\POI/maternal.txt') as f:\n",
    "    text7 = f.readlines()"
   ]
  },
  {
   "cell_type": "code",
   "execution_count": 2,
   "id": "4f9cce67",
   "metadata": {},
   "outputs": [
    {
     "name": "stdout",
     "output_type": "stream",
     "text": [
      "c:\\C Notes\\python\\ComDept\\question_generation\n"
     ]
    }
   ],
   "source": [
    "%cd question_generation"
   ]
  },
  {
   "cell_type": "code",
   "execution_count": 3,
   "id": "4a92493e",
   "metadata": {},
   "outputs": [
    {
     "name": "stdout",
     "output_type": "stream",
     "text": [
      "Collecting pipelinesNote: you may need to restart the kernel to use updated packages.\n"
     ]
    },
    {
     "name": "stderr",
     "output_type": "stream",
     "text": [
      "  error: subprocess-exited-with-error\n",
      "  \n",
      "  × python setup.py egg_info did not run successfully.\n",
      "  │ exit code: 1\n",
      "  ╰─> [25 lines of output]\n",
      "      Traceback (most recent call last):\n",
      "        File \"<string>\", line 2, in <module>\n",
      "        File \"<pip-setuptools-caller>\", line 14, in <module>\n",
      "        File \"c:\\Users\\Welcome\\AppData\\Local\\Programs\\Python\\Python310\\lib\\site-packages\\setuptools\\__init__.py\", line 18, in <module>\n",
      "          from setuptools.dist import Distribution\n",
      "        File \"c:\\Users\\Welcome\\AppData\\Local\\Programs\\Python\\Python310\\lib\\site-packages\\setuptools\\dist.py\", line 32, in <module>\n",
      "          from setuptools.extern.more_itertools import unique_everseen\n",
      "        File \"<frozen importlib._bootstrap>\", line 1027, in _find_and_load\n",
      "        File \"<frozen importlib._bootstrap>\", line 1006, in _find_and_load_unlocked\n",
      "        File \"<frozen importlib._bootstrap>\", line 674, in _load_unlocked\n",
      "        File \"<frozen importlib._bootstrap>\", line 571, in module_from_spec\n",
      "        File \"c:\\Users\\Welcome\\AppData\\Local\\Programs\\Python\\Python310\\lib\\site-packages\\setuptools\\extern\\__init__.py\", line 52, in create_module\n",
      "          return self.load_module(spec.name)\n",
      "        File \"c:\\Users\\Welcome\\AppData\\Local\\Programs\\Python\\Python310\\lib\\site-packages\\setuptools\\extern\\__init__.py\", line 37, in load_module\n",
      "          __import__(extant)\n",
      "        File \"c:\\Users\\Welcome\\AppData\\Local\\Programs\\Python\\Python310\\lib\\site-packages\\setuptools\\_vendor\\more_itertools\\__init__.py\", line 1, in <module>\n",
      "          from .more import *  # noqa\n",
      "        File \"c:\\Users\\Welcome\\AppData\\Local\\Programs\\Python\\Python310\\lib\\site-packages\\setuptools\\_vendor\\more_itertools\\more.py\", line 5, in <module>\n",
      "          from concurrent.futures import ThreadPoolExecutor\n",
      "        File \"C:\\Users\\Welcome\\AppData\\Local\\Temp\\pip-install-muejbdce\\futures_c9d635dec31e4822bd34a1102aef12b5\\concurrent\\futures\\__init__.py\", line 8, in <module>\n",
      "          from concurrent.futures._base import (FIRST_COMPLETED,\n",
      "        File \"C:\\Users\\Welcome\\AppData\\Local\\Temp\\pip-install-muejbdce\\futures_c9d635dec31e4822bd34a1102aef12b5\\concurrent\\futures\\_base.py\", line 357\n",
      "          raise type(self._exception), self._exception, self._traceback\n",
      "                                     ^\n",
      "      SyntaxError: invalid syntax\n",
      "      [end of output]\n",
      "  \n",
      "  note: This error originates from a subprocess, and is likely not a problem with pip.\n",
      "error: metadata-generation-failed\n",
      "\n",
      "× Encountered error while generating package metadata.\n",
      "╰─> See above for output.\n",
      "\n",
      "note: This is an issue with the package mentioned above, not pip.\n",
      "hint: See above for details.\n"
     ]
    },
    {
     "name": "stdout",
     "output_type": "stream",
     "text": [
      "\n",
      "  Using cached pipelines-0.0.14.tar.gz (161 kB)\n",
      "  Preparing metadata (setup.py): started\n",
      "  Preparing metadata (setup.py): finished with status 'done'\n",
      "Collecting futures==3.0.5\n",
      "  Using cached futures-3.0.5.tar.gz (25 kB)\n",
      "  Preparing metadata (setup.py): started\n",
      "  Preparing metadata (setup.py): finished with status 'error'\n"
     ]
    }
   ],
   "source": [
    "%pip install pipelines"
   ]
  },
  {
   "cell_type": "code",
   "execution_count": 4,
   "id": "64b2e23f",
   "metadata": {},
   "outputs": [
    {
     "name": "stdout",
     "output_type": "stream",
     "text": [
      "Requirement already satisfied: torch in c:\\users\\welcome\\appdata\\local\\programs\\python\\python310\\lib\\site-packages (1.11.0)\n",
      "Requirement already satisfied: typing-extensions in c:\\users\\welcome\\appdata\\local\\programs\\python\\python310\\lib\\site-packages (from torch) (4.2.0)\n",
      "Note: you may need to restart the kernel to use updated packages.\n"
     ]
    }
   ],
   "source": [
    "%pip install torch"
   ]
  },
  {
   "cell_type": "code",
   "execution_count": 5,
   "id": "05e47b03",
   "metadata": {},
   "outputs": [
    {
     "name": "stdout",
     "output_type": "stream",
     "text": [
      "Requirement already satisfied: ipywidgets in c:\\users\\welcome\\appdata\\local\\programs\\python\\python310\\lib\\site-packages (7.7.0)\n",
      "Requirement already satisfied: nbformat>=4.2.0 in c:\\users\\welcome\\appdata\\local\\programs\\python\\python310\\lib\\site-packages (from ipywidgets) (5.4.0)\n",
      "Requirement already satisfied: ipython>=4.0.0 in c:\\users\\welcome\\appdata\\local\\programs\\python\\python310\\lib\\site-packages (from ipywidgets) (8.4.0)\n",
      "Requirement already satisfied: ipython-genutils~=0.2.0 in c:\\users\\welcome\\appdata\\local\\programs\\python\\python310\\lib\\site-packages (from ipywidgets) (0.2.0)\n",
      "Requirement already satisfied: traitlets>=4.3.1 in c:\\users\\welcome\\appdata\\local\\programs\\python\\python310\\lib\\site-packages (from ipywidgets) (5.2.2.post1)\n",
      "Requirement already satisfied: ipykernel>=4.5.1 in c:\\users\\welcome\\appdata\\local\\programs\\python\\python310\\lib\\site-packages (from ipywidgets) (6.13.1)\n",
      "Requirement already satisfied: widgetsnbextension~=3.6.0 in c:\\users\\welcome\\appdata\\local\\programs\\python\\python310\\lib\\site-packages (from ipywidgets) (3.6.0)\n",
      "Requirement already satisfied: jupyterlab-widgets>=1.0.0 in c:\\users\\welcome\\appdata\\local\\programs\\python\\python310\\lib\\site-packages (from ipywidgets) (1.1.0)\n",
      "Requirement already satisfied: tornado>=6.1 in c:\\users\\welcome\\appdata\\local\\programs\\python\\python310\\lib\\site-packages (from ipykernel>=4.5.1->ipywidgets) (6.1)\n",
      "Requirement already satisfied: jupyter-client>=6.1.12 in c:\\users\\welcome\\appdata\\local\\programs\\python\\python310\\lib\\site-packages (from ipykernel>=4.5.1->ipywidgets) (7.3.4)\n",
      "Requirement already satisfied: nest-asyncio in c:\\users\\welcome\\appdata\\local\\programs\\python\\python310\\lib\\site-packages (from ipykernel>=4.5.1->ipywidgets) (1.5.5)\n",
      "Requirement already satisfied: psutil in c:\\users\\welcome\\appdata\\local\\programs\\python\\python310\\lib\\site-packages (from ipykernel>=4.5.1->ipywidgets) (5.9.1)\n",
      "Requirement already satisfied: debugpy>=1.0 in c:\\users\\welcome\\appdata\\local\\programs\\python\\python310\\lib\\site-packages (from ipykernel>=4.5.1->ipywidgets) (1.6.0)\n",
      "Requirement already satisfied: packaging in c:\\users\\welcome\\appdata\\local\\programs\\python\\python310\\lib\\site-packages (from ipykernel>=4.5.1->ipywidgets) (21.3)\n",
      "Requirement already satisfied: matplotlib-inline>=0.1 in c:\\users\\welcome\\appdata\\local\\programs\\python\\python310\\lib\\site-packages (from ipykernel>=4.5.1->ipywidgets) (0.1.3)\n",
      "Requirement already satisfied: pygments>=2.4.0 in c:\\users\\welcome\\appdata\\local\\programs\\python\\python310\\lib\\site-packages (from ipython>=4.0.0->ipywidgets) (2.12.0)\n",
      "Requirement already satisfied: stack-data in c:\\users\\welcome\\appdata\\local\\programs\\python\\python310\\lib\\site-packages (from ipython>=4.0.0->ipywidgets) (0.2.0)\n",
      "Requirement already satisfied: jedi>=0.16 in c:\\users\\welcome\\appdata\\local\\programs\\python\\python310\\lib\\site-packages (from ipython>=4.0.0->ipywidgets) (0.18.1)\n",
      "Requirement already satisfied: setuptools>=18.5 in c:\\users\\welcome\\appdata\\local\\programs\\python\\python310\\lib\\site-packages (from ipython>=4.0.0->ipywidgets) (58.1.0)\n",
      "Requirement already satisfied: colorama in c:\\users\\welcome\\appdata\\local\\programs\\python\\python310\\lib\\site-packages (from ipython>=4.0.0->ipywidgets) (0.4.4)\n",
      "Requirement already satisfied: backcall in c:\\users\\welcome\\appdata\\local\\programs\\python\\python310\\lib\\site-packages (from ipython>=4.0.0->ipywidgets) (0.2.0)\n",
      "Requirement already satisfied: prompt-toolkit!=3.0.0,!=3.0.1,<3.1.0,>=2.0.0 in c:\\users\\welcome\\appdata\\local\\programs\\python\\python310\\lib\\site-packages (from ipython>=4.0.0->ipywidgets) (3.0.29)\n",
      "Requirement already satisfied: decorator in c:\\users\\welcome\\appdata\\local\\programs\\python\\python310\\lib\\site-packages (from ipython>=4.0.0->ipywidgets) (5.1.1)\n",
      "Requirement already satisfied: pickleshare in c:\\users\\welcome\\appdata\\local\\programs\\python\\python310\\lib\\site-packages (from ipython>=4.0.0->ipywidgets) (0.7.5)\n",
      "Requirement already satisfied: jupyter-core in c:\\users\\welcome\\appdata\\local\\programs\\python\\python310\\lib\\site-packages (from nbformat>=4.2.0->ipywidgets) (4.10.0)\n",
      "Requirement already satisfied: jsonschema>=2.6 in c:\\users\\welcome\\appdata\\local\\programs\\python\\python310\\lib\\site-packages (from nbformat>=4.2.0->ipywidgets) (4.6.0)\n",
      "Requirement already satisfied: fastjsonschema in c:\\users\\welcome\\appdata\\local\\programs\\python\\python310\\lib\\site-packages (from nbformat>=4.2.0->ipywidgets) (2.15.3)\n",
      "Requirement already satisfied: notebook>=4.4.1 in c:\\users\\welcome\\appdata\\local\\programs\\python\\python310\\lib\\site-packages (from widgetsnbextension~=3.6.0->ipywidgets) (6.4.12)\n",
      "Requirement already satisfied: parso<0.9.0,>=0.8.0 in c:\\users\\welcome\\appdata\\local\\programs\\python\\python310\\lib\\site-packages (from jedi>=0.16->ipython>=4.0.0->ipywidgets) (0.8.3)\n",
      "Requirement already satisfied: attrs>=17.4.0 in c:\\users\\welcome\\appdata\\local\\programs\\python\\python310\\lib\\site-packages (from jsonschema>=2.6->nbformat>=4.2.0->ipywidgets) (21.4.0)\n",
      "Requirement already satisfied: pyrsistent!=0.17.0,!=0.17.1,!=0.17.2,>=0.14.0 in c:\\users\\welcome\\appdata\\local\\programs\\python\\python310\\lib\\site-packages (from jsonschema>=2.6->nbformat>=4.2.0->ipywidgets) (0.18.1)\n",
      "Requirement already satisfied: entrypoints in c:\\users\\welcome\\appdata\\local\\programs\\python\\python310\\lib\\site-packages (from jupyter-client>=6.1.12->ipykernel>=4.5.1->ipywidgets) (0.4)\n",
      "Requirement already satisfied: python-dateutil>=2.8.2 in c:\\users\\welcome\\appdata\\local\\programs\\python\\python310\\lib\\site-packages (from jupyter-client>=6.1.12->ipykernel>=4.5.1->ipywidgets) (2.8.2)\n",
      "Requirement already satisfied: pyzmq>=23.0 in c:\\users\\welcome\\appdata\\local\\programs\\python\\python310\\lib\\site-packages (from jupyter-client>=6.1.12->ipykernel>=4.5.1->ipywidgets) (23.1.0)\n",
      "Requirement already satisfied: pywin32>=1.0 in c:\\users\\welcome\\appdata\\local\\programs\\python\\python310\\lib\\site-packages (from jupyter-core->nbformat>=4.2.0->ipywidgets) (304)\n",
      "Requirement already satisfied: argon2-cffi in c:\\users\\welcome\\appdata\\local\\programs\\python\\python310\\lib\\site-packages (from notebook>=4.4.1->widgetsnbextension~=3.6.0->ipywidgets) (21.3.0)\n",
      "Requirement already satisfied: jinja2 in c:\\users\\welcome\\appdata\\local\\programs\\python\\python310\\lib\\site-packages (from notebook>=4.4.1->widgetsnbextension~=3.6.0->ipywidgets) (3.1.2)\n",
      "Requirement already satisfied: nbconvert>=5 in c:\\users\\welcome\\appdata\\local\\programs\\python\\python310\\lib\\site-packages (from notebook>=4.4.1->widgetsnbextension~=3.6.0->ipywidgets) (6.5.0)\n",
      "Requirement already satisfied: prometheus-client in c:\\users\\welcome\\appdata\\local\\programs\\python\\python310\\lib\\site-packages (from notebook>=4.4.1->widgetsnbextension~=3.6.0->ipywidgets) (0.14.1)\n",
      "Requirement already satisfied: Send2Trash>=1.8.0 in c:\\users\\welcome\\appdata\\local\\programs\\python\\python310\\lib\\site-packages (from notebook>=4.4.1->widgetsnbextension~=3.6.0->ipywidgets) (1.8.0)\n",
      "Requirement already satisfied: terminado>=0.8.3 in c:\\users\\welcome\\appdata\\local\\programs\\python\\python310\\lib\\site-packages (from notebook>=4.4.1->widgetsnbextension~=3.6.0->ipywidgets) (0.15.0)\n",
      "Requirement already satisfied: wcwidth in c:\\users\\welcome\\appdata\\local\\programs\\python\\python310\\lib\\site-packages (from prompt-toolkit!=3.0.0,!=3.0.1,<3.1.0,>=2.0.0->ipython>=4.0.0->ipywidgets) (0.2.5)\n",
      "Requirement already satisfied: pyparsing!=3.0.5,>=2.0.2 in c:\\users\\welcome\\appdata\\local\\programs\\python\\python310\\lib\\site-packages (from packaging->ipykernel>=4.5.1->ipywidgets) (3.0.9)\n",
      "Requirement already satisfied: executing in c:\\users\\welcome\\appdata\\local\\programs\\python\\python310\\lib\\site-packages (from stack-data->ipython>=4.0.0->ipywidgets) (0.8.3)\n",
      "Requirement already satisfied: pure-eval in c:\\users\\welcome\\appdata\\local\\programs\\python\\python310\\lib\\site-packages (from stack-data->ipython>=4.0.0->ipywidgets) (0.2.2)\n",
      "Requirement already satisfied: asttokens in c:\\users\\welcome\\appdata\\local\\programs\\python\\python310\\lib\\site-packages (from stack-data->ipython>=4.0.0->ipywidgets) (2.0.5)\n",
      "Requirement already satisfied: defusedxml in c:\\users\\welcome\\appdata\\local\\programs\\python\\python310\\lib\\site-packages (from nbconvert>=5->notebook>=4.4.1->widgetsnbextension~=3.6.0->ipywidgets) (0.7.1)\n",
      "Requirement already satisfied: bleach in c:\\users\\welcome\\appdata\\local\\programs\\python\\python310\\lib\\site-packages (from nbconvert>=5->notebook>=4.4.1->widgetsnbextension~=3.6.0->ipywidgets) (5.0.0)\n",
      "Requirement already satisfied: beautifulsoup4 in c:\\users\\welcome\\appdata\\local\\programs\\python\\python310\\lib\\site-packages (from nbconvert>=5->notebook>=4.4.1->widgetsnbextension~=3.6.0->ipywidgets) (4.11.1)\n",
      "Requirement already satisfied: nbclient>=0.5.0 in c:\\users\\welcome\\appdata\\local\\programs\\python\\python310\\lib\\site-packages (from nbconvert>=5->notebook>=4.4.1->widgetsnbextension~=3.6.0->ipywidgets) (0.6.4)\n",
      "Requirement already satisfied: jupyterlab-pygments in c:\\users\\welcome\\appdata\\local\\programs\\python\\python310\\lib\\site-packages (from nbconvert>=5->notebook>=4.4.1->widgetsnbextension~=3.6.0->ipywidgets) (0.2.2)\n",
      "Requirement already satisfied: mistune<2,>=0.8.1 in c:\\users\\welcome\\appdata\\local\\programs\\python\\python310\\lib\\site-packages (from nbconvert>=5->notebook>=4.4.1->widgetsnbextension~=3.6.0->ipywidgets) (0.8.4)\n",
      "Requirement already satisfied: tinycss2 in c:\\users\\welcome\\appdata\\local\\programs\\python\\python310\\lib\\site-packages (from nbconvert>=5->notebook>=4.4.1->widgetsnbextension~=3.6.0->ipywidgets) (1.1.1)\n",
      "Requirement already satisfied: pandocfilters>=1.4.1 in c:\\users\\welcome\\appdata\\local\\programs\\python\\python310\\lib\\site-packages (from nbconvert>=5->notebook>=4.4.1->widgetsnbextension~=3.6.0->ipywidgets) (1.5.0)\n",
      "Requirement already satisfied: MarkupSafe>=2.0 in c:\\users\\welcome\\appdata\\local\\programs\\python\\python310\\lib\\site-packages (from nbconvert>=5->notebook>=4.4.1->widgetsnbextension~=3.6.0->ipywidgets) (2.1.1)\n",
      "Requirement already satisfied: six>=1.5 in c:\\users\\welcome\\appdata\\local\\programs\\python\\python310\\lib\\site-packages (from python-dateutil>=2.8.2->jupyter-client>=6.1.12->ipykernel>=4.5.1->ipywidgets) (1.16.0)\n",
      "Requirement already satisfied: pywinpty>=1.1.0 in c:\\users\\welcome\\appdata\\local\\programs\\python\\python310\\lib\\site-packages (from terminado>=0.8.3->notebook>=4.4.1->widgetsnbextension~=3.6.0->ipywidgets) (2.0.5)\n",
      "Requirement already satisfied: argon2-cffi-bindings in c:\\users\\welcome\\appdata\\local\\programs\\python\\python310\\lib\\site-packages (from argon2-cffi->notebook>=4.4.1->widgetsnbextension~=3.6.0->ipywidgets) (21.2.0)\n",
      "Requirement already satisfied: cffi>=1.0.1 in c:\\users\\welcome\\appdata\\local\\programs\\python\\python310\\lib\\site-packages (from argon2-cffi-bindings->argon2-cffi->notebook>=4.4.1->widgetsnbextension~=3.6.0->ipywidgets) (1.15.0)\n",
      "Requirement already satisfied: soupsieve>1.2 in c:\\users\\welcome\\appdata\\local\\programs\\python\\python310\\lib\\site-packages (from beautifulsoup4->nbconvert>=5->notebook>=4.4.1->widgetsnbextension~=3.6.0->ipywidgets) (2.3.2.post1)\n",
      "Requirement already satisfied: webencodings in c:\\users\\welcome\\appdata\\local\\programs\\python\\python310\\lib\\site-packages (from bleach->nbconvert>=5->notebook>=4.4.1->widgetsnbextension~=3.6.0->ipywidgets) (0.5.1)\n",
      "Requirement already satisfied: pycparser in c:\\users\\welcome\\appdata\\local\\programs\\python\\python310\\lib\\site-packages (from cffi>=1.0.1->argon2-cffi-bindings->argon2-cffi->notebook>=4.4.1->widgetsnbextension~=3.6.0->ipywidgets) (2.21)\n",
      "Note: you may need to restart the kernel to use updated packages.\n"
     ]
    }
   ],
   "source": [
    "%pip install ipywidgets"
   ]
  },
  {
   "cell_type": "code",
   "execution_count": 6,
   "id": "7e1f66c3",
   "metadata": {},
   "outputs": [
    {
     "name": "stdout",
     "output_type": "stream",
     "text": [
      "Requirement already satisfied: sentencepiece in c:\\users\\welcome\\appdata\\local\\programs\\python\\python310\\lib\\site-packages (0.1.96)\n",
      "Note: you may need to restart the kernel to use updated packages.\n"
     ]
    }
   ],
   "source": [
    "%pip install sentencepiece"
   ]
  },
  {
   "cell_type": "code",
   "execution_count": 4,
   "id": "714e2660",
   "metadata": {},
   "outputs": [],
   "source": [
    "from pipelines import pipeline"
   ]
  },
  {
   "cell_type": "code",
   "execution_count": 5,
   "id": "443606be",
   "metadata": {},
   "outputs": [],
   "source": [
    "nlp = pipeline(\"question-generation\")"
   ]
  },
  {
   "cell_type": "code",
   "execution_count": 10,
   "id": "9c0a3903",
   "metadata": {},
   "outputs": [
    {
     "data": {
      "text/plain": [
       "[{'answer': '',\n",
       "  'question': 'What is the BILATERAL NETTING of QUALIFIED FINANCIAL CONTRACTS ACT, 2020 No?'},\n",
       " {'answer': '',\n",
       "  'question': 'What is the name of the Act to ensure financial stability and promote competitiveness in Indian financial markets?'},\n",
       " {'answer': '',\n",
       "  'question': 'What is an Act to ensure financial stability and promote competitiveness in Indian financial markets by providing enforceability of bilateral netting of qualified financial contracts?'}]"
      ]
     },
     "execution_count": 10,
     "metadata": {},
     "output_type": "execute_result"
    }
   ],
   "source": [
    "nlp(text6)"
   ]
  },
  {
   "cell_type": "code",
   "execution_count": 10,
   "id": "802e2a90",
   "metadata": {},
   "outputs": [],
   "source": [
    "nlp = pipeline(\"question-generation\", model=\"valhalla/t5-base-qg-hl\")"
   ]
  },
  {
   "cell_type": "code",
   "execution_count": 11,
   "id": "27d3191b",
   "metadata": {},
   "outputs": [
    {
     "data": {
      "text/plain": [
       "[{'answer': '',\n",
       "  'question': 'What is the name of the INFORMATION BULLETIN in India?'},\n",
       " {'answer': '',\n",
       "  'question': \"What is health an essential component of India's philosophy of development for?\"},\n",
       " {'answer': '', 'question': 'What does a healthy society make way for?'},\n",
       " {'answer': '',\n",
       "  'question': 'What is the definition of a healthy social capital?'},\n",
       " {'answer': '', 'question': 'What are the challenges of motherhood?'},\n",
       " {'answer': '',\n",
       "  'question': 'What is the importance of improving the well-being of mothers, infants and children?'},\n",
       " {'answer': '',\n",
       "  'question': 'What is the future public health challenges for families, communities and the health care system?'},\n",
       " {'answer': '',\n",
       "  'question': 'What do women with better education and health prioritize the well-being of their children?'},\n",
       " {'answer': '',\n",
       "  'question': 'What is the term for care and support in the weeks after childbirth in India?'},\n",
       " {'answer': '',\n",
       "  'question': 'Timely management and treatment can make the difference between life and death for both mother and baby?'}]"
      ]
     },
     "execution_count": 11,
     "metadata": {},
     "output_type": "execute_result"
    }
   ],
   "source": [
    "nlp(text6)"
   ]
  },
  {
   "cell_type": "code",
   "execution_count": null,
   "id": "38f5897f",
   "metadata": {},
   "outputs": [],
   "source": []
  },
  {
   "cell_type": "code",
   "execution_count": null,
   "id": "2afa6e85",
   "metadata": {},
   "outputs": [],
   "source": []
  },
  {
   "cell_type": "markdown",
   "id": "e74b7f26",
   "metadata": {},
   "source": [
    "## Multitask QA-QG"
   ]
  },
  {
   "cell_type": "markdown",
   "id": "295fae86",
   "metadata": {},
   "source": [
    "### small-model"
   ]
  },
  {
   "cell_type": "code",
   "execution_count": 15,
   "id": "d37befe4",
   "metadata": {},
   "outputs": [],
   "source": [
    "nlp = pipeline(\"multitask-qa-qg\")"
   ]
  },
  {
   "cell_type": "markdown",
   "id": "53868c40",
   "metadata": {},
   "source": [
    "#### QG"
   ]
  },
  {
   "cell_type": "code",
   "execution_count": 17,
   "id": "90145f06",
   "metadata": {},
   "outputs": [
    {
     "ename": "ValueError",
     "evalue": "substring not found",
     "output_type": "error",
     "traceback": [
      "\u001b[1;31m---------------------------------------------------------------------------\u001b[0m",
      "\u001b[1;31mValueError\u001b[0m                                Traceback (most recent call last)",
      "\u001b[1;32mc:\\C Notes\\python\\ComDept\\question_generation.ipynb Cell 22'\u001b[0m in \u001b[0;36m<cell line: 1>\u001b[1;34m()\u001b[0m\n\u001b[1;32m----> <a href='vscode-notebook-cell:/c%3A/C%20Notes/python/ComDept/question_generation.ipynb#ch0000021?line=0'>1</a>\u001b[0m nlp(text7[\u001b[39m0\u001b[39;49m])\n",
      "File \u001b[1;32mc:\\C Notes\\python\\ComDept\\question_generation\\pipelines.py:175\u001b[0m, in \u001b[0;36mMultiTaskQAQGPipeline.__call__\u001b[1;34m(self, inputs)\u001b[0m\n\u001b[0;32m    172\u001b[0m \u001b[39mdef\u001b[39;00m \u001b[39m__call__\u001b[39m(\u001b[39mself\u001b[39m, inputs: Union[Dict, \u001b[39mstr\u001b[39m]):\n\u001b[0;32m    173\u001b[0m     \u001b[39mif\u001b[39;00m \u001b[39mtype\u001b[39m(inputs) \u001b[39mis\u001b[39;00m \u001b[39mstr\u001b[39m:\n\u001b[0;32m    174\u001b[0m         \u001b[39m# do qg\u001b[39;00m\n\u001b[1;32m--> 175\u001b[0m         \u001b[39mreturn\u001b[39;00m \u001b[39msuper\u001b[39;49m()\u001b[39m.\u001b[39;49m\u001b[39m__call__\u001b[39;49m(inputs)\n\u001b[0;32m    176\u001b[0m     \u001b[39melse\u001b[39;00m:\n\u001b[0;32m    177\u001b[0m         \u001b[39m# do qa\u001b[39;00m\n\u001b[0;32m    178\u001b[0m         \u001b[39mreturn\u001b[39;00m \u001b[39mself\u001b[39m\u001b[39m.\u001b[39m_extract_answer(inputs[\u001b[39m\"\u001b[39m\u001b[39mquestion\u001b[39m\u001b[39m\"\u001b[39m], inputs[\u001b[39m\"\u001b[39m\u001b[39mcontext\u001b[39m\u001b[39m\"\u001b[39m])\n",
      "File \u001b[1;32mc:\\C Notes\\python\\ComDept\\question_generation\\pipelines.py:60\u001b[0m, in \u001b[0;36mQGPipeline.__call__\u001b[1;34m(self, inputs)\u001b[0m\n\u001b[0;32m     58\u001b[0m     qg_examples \u001b[39m=\u001b[39m \u001b[39mself\u001b[39m\u001b[39m.\u001b[39m_prepare_inputs_for_qg_from_answers_prepend(inputs, answers)\n\u001b[0;32m     59\u001b[0m \u001b[39melse\u001b[39;00m:\n\u001b[1;32m---> 60\u001b[0m     qg_examples \u001b[39m=\u001b[39m \u001b[39mself\u001b[39;49m\u001b[39m.\u001b[39;49m_prepare_inputs_for_qg_from_answers_hl(sents, answers)\n\u001b[0;32m     62\u001b[0m qg_inputs \u001b[39m=\u001b[39m [example[\u001b[39m'\u001b[39m\u001b[39msource_text\u001b[39m\u001b[39m'\u001b[39m] \u001b[39mfor\u001b[39;00m example \u001b[39min\u001b[39;00m qg_examples]\n\u001b[0;32m     63\u001b[0m questions \u001b[39m=\u001b[39m \u001b[39mself\u001b[39m\u001b[39m.\u001b[39m_generate_questions(qg_inputs)\n",
      "File \u001b[1;32mc:\\C Notes\\python\\ComDept\\question_generation\\pipelines.py:142\u001b[0m, in \u001b[0;36mQGPipeline._prepare_inputs_for_qg_from_answers_hl\u001b[1;34m(self, sents, answers)\u001b[0m\n\u001b[0;32m    138\u001b[0m sents_copy \u001b[39m=\u001b[39m sents[:]\n\u001b[0;32m    140\u001b[0m answer_text \u001b[39m=\u001b[39m answer_text\u001b[39m.\u001b[39mstrip()\n\u001b[1;32m--> 142\u001b[0m ans_start_idx \u001b[39m=\u001b[39m sent\u001b[39m.\u001b[39;49mindex(answer_text)\n\u001b[0;32m    144\u001b[0m sent \u001b[39m=\u001b[39m \u001b[39mf\u001b[39m\u001b[39m\"\u001b[39m\u001b[39m{\u001b[39;00msent[:ans_start_idx]\u001b[39m}\u001b[39;00m\u001b[39m <hl> \u001b[39m\u001b[39m{\u001b[39;00manswer_text\u001b[39m}\u001b[39;00m\u001b[39m <hl> \u001b[39m\u001b[39m{\u001b[39;00msent[ans_start_idx \u001b[39m+\u001b[39m \u001b[39mlen\u001b[39m(answer_text): ]\u001b[39m}\u001b[39;00m\u001b[39m\"\u001b[39m\n\u001b[0;32m    145\u001b[0m sents_copy[i] \u001b[39m=\u001b[39m sent\n",
      "\u001b[1;31mValueError\u001b[0m: substring not found"
     ]
    }
   ],
   "source": [
    "nlp(text7[0])"
   ]
  },
  {
   "cell_type": "code",
   "execution_count": null,
   "id": "08fa2fae",
   "metadata": {},
   "outputs": [],
   "source": []
  },
  {
   "cell_type": "code",
   "execution_count": null,
   "id": "17c4578a",
   "metadata": {},
   "outputs": [],
   "source": []
  },
  {
   "cell_type": "markdown",
   "id": "bfc706f4",
   "metadata": {},
   "source": [
    "#### QA"
   ]
  },
  {
   "cell_type": "code",
   "execution_count": 28,
   "id": "537ac026",
   "metadata": {},
   "outputs": [
    {
     "data": {
      "text/plain": [
       "'Guido van Rossum'"
      ]
     },
     "execution_count": 28,
     "metadata": {},
     "output_type": "execute_result"
    }
   ],
   "source": [
    "nlp({\n",
    "  \"question\": \"Who created Python ?\",\n",
    "  \"context\": text\n",
    "})"
   ]
  },
  {
   "cell_type": "code",
   "execution_count": 11,
   "id": "8f63cf8a",
   "metadata": {},
   "outputs": [
    {
     "ename": "AttributeError",
     "evalue": "'dict' object has no attribute 'split'",
     "output_type": "error",
     "traceback": [
      "\u001b[1;31m---------------------------------------------------------------------------\u001b[0m",
      "\u001b[1;31mAttributeError\u001b[0m                            Traceback (most recent call last)",
      "Input \u001b[1;32mIn [11]\u001b[0m, in \u001b[0;36m<cell line: 1>\u001b[1;34m()\u001b[0m\n\u001b[1;32m----> 1\u001b[0m \u001b[43mnlp\u001b[49m\u001b[43m(\u001b[49m\u001b[43m{\u001b[49m\n\u001b[0;32m      2\u001b[0m \u001b[43m    \u001b[49m\u001b[38;5;124;43m\"\u001b[39;49m\u001b[38;5;124;43mquestion\u001b[39;49m\u001b[38;5;124;43m\"\u001b[39;49m\u001b[43m:\u001b[49m\u001b[43m \u001b[49m\u001b[38;5;124;43m\"\u001b[39;49m\u001b[38;5;124;43mWho wrote Forrest Gump ?\u001b[39;49m\u001b[38;5;124;43m\"\u001b[39;49m\u001b[43m,\u001b[49m\n\u001b[0;32m      3\u001b[0m \u001b[43m     \u001b[49m\u001b[38;5;124;43m\"\u001b[39;49m\u001b[38;5;124;43mcontext\u001b[39;49m\u001b[38;5;124;43m\"\u001b[39;49m\u001b[43m:\u001b[49m\u001b[43m \u001b[49m\u001b[43mtext4\u001b[49m\n\u001b[0;32m      4\u001b[0m \u001b[43m}\u001b[49m\u001b[43m)\u001b[49m\n",
      "File \u001b[1;32m~\\question_generation\\pipelines.py:50\u001b[0m, in \u001b[0;36mQGPipeline.__call__\u001b[1;34m(self, inputs)\u001b[0m\n\u001b[0;32m     49\u001b[0m \u001b[38;5;28;01mdef\u001b[39;00m \u001b[38;5;21m__call__\u001b[39m(\u001b[38;5;28mself\u001b[39m, inputs: \u001b[38;5;28mstr\u001b[39m):\n\u001b[1;32m---> 50\u001b[0m     inputs \u001b[38;5;241m=\u001b[39m \u001b[38;5;124m\"\u001b[39m\u001b[38;5;124m \u001b[39m\u001b[38;5;124m\"\u001b[39m\u001b[38;5;241m.\u001b[39mjoin(\u001b[43minputs\u001b[49m\u001b[38;5;241;43m.\u001b[39;49m\u001b[43msplit\u001b[49m())\n\u001b[0;32m     51\u001b[0m     sents, answers \u001b[38;5;241m=\u001b[39m \u001b[38;5;28mself\u001b[39m\u001b[38;5;241m.\u001b[39m_extract_answers(inputs)\n\u001b[0;32m     52\u001b[0m     flat_answers \u001b[38;5;241m=\u001b[39m \u001b[38;5;28mlist\u001b[39m(itertools\u001b[38;5;241m.\u001b[39mchain(\u001b[38;5;241m*\u001b[39manswers))\n",
      "\u001b[1;31mAttributeError\u001b[0m: 'dict' object has no attribute 'split'"
     ]
    }
   ],
   "source": [
    "nlp({\n",
    "    \"question\": \"Who wrote Forrest Gump ?\",\n",
    "     \"context\": text4\n",
    "})"
   ]
  },
  {
   "cell_type": "markdown",
   "id": "3d05e82b",
   "metadata": {},
   "source": [
    "### base-model"
   ]
  },
  {
   "cell_type": "code",
   "execution_count": 22,
   "id": "7d566db2",
   "metadata": {},
   "outputs": [],
   "source": [
    "nlp = pipeline(\"multitask-qa-qg\", model=\"valhalla/t5-base-qa-qg-hl\")"
   ]
  },
  {
   "cell_type": "markdown",
   "id": "28ac253f",
   "metadata": {},
   "source": [
    "#### QG"
   ]
  },
  {
   "cell_type": "code",
   "execution_count": 23,
   "id": "2e2c46a8",
   "metadata": {},
   "outputs": [
    {
     "data": {
      "text/plain": [
       "[{'answer': '1956',\n",
       "  'question': 'When was the Bureau of Economics and Statistics, Andhra Pradesh formed?'},\n",
       " {'answer': '',\n",
       "  'question': 'What was the initial role of the Bureau of Economics and Statistics?'},\n",
       " {'answer': 'Directorate of Economics and Statistics',\n",
       "  'question': 'What was the Bureau of Economics and Statistics re-designated as?'},\n",
       " {'answer': '',\n",
       "  'question': 'When was the Present Directorate of Economics and Statistics, Telangana created?'},\n",
       " {'answer': 'Centralized Statistical Organisation of the State',\n",
       "  'question': 'What is the Directorate of Economics and Statistics?'}]"
      ]
     },
     "execution_count": 23,
     "metadata": {},
     "output_type": "execute_result"
    }
   ],
   "source": [
    "nlp(text5)"
   ]
  },
  {
   "cell_type": "code",
   "execution_count": null,
   "id": "fe9c6206",
   "metadata": {},
   "outputs": [],
   "source": []
  },
  {
   "cell_type": "code",
   "execution_count": null,
   "id": "d927b482",
   "metadata": {},
   "outputs": [],
   "source": []
  },
  {
   "cell_type": "code",
   "execution_count": null,
   "id": "d7cde611",
   "metadata": {},
   "outputs": [],
   "source": [
    "#### QA"
   ]
  },
  {
   "cell_type": "code",
   "execution_count": null,
   "id": "0870c5cb",
   "metadata": {},
   "outputs": [],
   "source": [
    "nlp({\n",
    "  \"question\": \"Who created Python ?\",\n",
    "  \"context\": text\n",
    "})"
   ]
  },
  {
   "cell_type": "code",
   "execution_count": null,
   "id": "4b71c8a1",
   "metadata": {},
   "outputs": [],
   "source": [
    "nlp({\n",
    "    \"question\": \"Who wrote Forrest Gump ?\",\n",
    "     \"context\": text4\n",
    "})"
   ]
  },
  {
   "cell_type": "code",
   "execution_count": null,
   "id": "7e50089f",
   "metadata": {},
   "outputs": [],
   "source": [
    "## End-to-End QG"
   ]
  },
  {
   "cell_type": "code",
   "execution_count": 21,
   "id": "be39a624",
   "metadata": {},
   "outputs": [
    {
     "data": {
      "application/vnd.jupyter.widget-view+json": {
       "model_id": "87313ecc8cef4f1ca8b31888e09aa6c0",
       "version_major": 2,
       "version_minor": 0
      },
      "text/plain": [
       "Downloading:   0%|          | 0.00/124 [00:00<?, ?B/s]"
      ]
     },
     "metadata": {},
     "output_type": "display_data"
    },
    {
     "data": {
      "application/vnd.jupyter.widget-view+json": {
       "model_id": "264fc2afe73c4c7a89c779353e32ffea",
       "version_major": 2,
       "version_minor": 0
      },
      "text/plain": [
       "Downloading:   0%|          | 0.00/1.32k [00:00<?, ?B/s]"
      ]
     },
     "metadata": {},
     "output_type": "display_data"
    },
    {
     "data": {
      "application/vnd.jupyter.widget-view+json": {
       "model_id": "8ab8d302329746be8b25eb8303ece480",
       "version_major": 2,
       "version_minor": 0
      },
      "text/plain": [
       "Downloading:   0%|          | 0.00/773k [00:00<?, ?B/s]"
      ]
     },
     "metadata": {},
     "output_type": "display_data"
    },
    {
     "data": {
      "application/vnd.jupyter.widget-view+json": {
       "model_id": "439ff6d0b5bf49d6b0b523d8ed408657",
       "version_major": 2,
       "version_minor": 0
      },
      "text/plain": [
       "Downloading:   0%|          | 0.00/31.0 [00:00<?, ?B/s]"
      ]
     },
     "metadata": {},
     "output_type": "display_data"
    },
    {
     "data": {
      "application/vnd.jupyter.widget-view+json": {
       "model_id": "ac0f9c13572a4cf0ad306c7717f1ada6",
       "version_major": 2,
       "version_minor": 0
      },
      "text/plain": [
       "Downloading:   0%|          | 0.00/1.74k [00:00<?, ?B/s]"
      ]
     },
     "metadata": {},
     "output_type": "display_data"
    },
    {
     "data": {
      "application/vnd.jupyter.widget-view+json": {
       "model_id": "71f5fdbb92db429a9b82f38bc322942b",
       "version_major": 2,
       "version_minor": 0
      },
      "text/plain": [
       "Downloading:   0%|          | 0.00/231M [00:00<?, ?B/s]"
      ]
     },
     "metadata": {},
     "output_type": "display_data"
    }
   ],
   "source": [
    "nlp = pipeline(\"e2e-qg\")"
   ]
  },
  {
   "cell_type": "code",
   "execution_count": 22,
   "id": "a99a9b9e",
   "metadata": {},
   "outputs": [
    {
     "data": {
      "text/plain": [
       "['What is the name of the department commerce industry vanijya aur udyog mantralaya?',\n",
       " 'What does the government finance failing concurrence approval cabinet cadre management specific central service cadre management matter pertaining to training manpower planning following service indian supply service escap eca eec efta gatt?']"
      ]
     },
     "execution_count": 22,
     "metadata": {},
     "output_type": "execute_result"
    }
   ],
   "source": [
    "nlp(text7)"
   ]
  },
  {
   "cell_type": "code",
   "execution_count": null,
   "id": "e4065173",
   "metadata": {},
   "outputs": [],
   "source": []
  },
  {
   "cell_type": "code",
   "execution_count": null,
   "id": "d750e1af",
   "metadata": {},
   "outputs": [],
   "source": []
  },
  {
   "cell_type": "code",
   "execution_count": null,
   "id": "89015bdc",
   "metadata": {},
   "outputs": [],
   "source": [
    "### base-model"
   ]
  },
  {
   "cell_type": "code",
   "execution_count": 18,
   "id": "89355bcf",
   "metadata": {},
   "outputs": [
    {
     "data": {
      "application/vnd.jupyter.widget-view+json": {
       "model_id": "377bd5554e704be4b13f33f176e9ae8e",
       "version_major": 2,
       "version_minor": 0
      },
      "text/plain": [
       "Downloading:   0%|          | 0.00/195 [00:00<?, ?B/s]"
      ]
     },
     "metadata": {},
     "output_type": "display_data"
    },
    {
     "data": {
      "application/vnd.jupyter.widget-view+json": {
       "model_id": "18657fe31b3d4aecb1259d180b8d4bb9",
       "version_major": 2,
       "version_minor": 0
      },
      "text/plain": [
       "Downloading:   0%|          | 0.00/1.32k [00:00<?, ?B/s]"
      ]
     },
     "metadata": {},
     "output_type": "display_data"
    },
    {
     "data": {
      "application/vnd.jupyter.widget-view+json": {
       "model_id": "e876847301964e1faa13ab0f05e0139c",
       "version_major": 2,
       "version_minor": 0
      },
      "text/plain": [
       "Downloading:   0%|          | 0.00/773k [00:00<?, ?B/s]"
      ]
     },
     "metadata": {},
     "output_type": "display_data"
    },
    {
     "data": {
      "application/vnd.jupyter.widget-view+json": {
       "model_id": "fd2d1ebc8dbf405da15816f4c2386e9f",
       "version_major": 2,
       "version_minor": 0
      },
      "text/plain": [
       "Downloading:   0%|          | 0.00/31.0 [00:00<?, ?B/s]"
      ]
     },
     "metadata": {},
     "output_type": "display_data"
    },
    {
     "data": {
      "application/vnd.jupyter.widget-view+json": {
       "model_id": "1d3c328cb7414bfaac38245807145ef0",
       "version_major": 2,
       "version_minor": 0
      },
      "text/plain": [
       "Downloading:   0%|          | 0.00/1.74k [00:00<?, ?B/s]"
      ]
     },
     "metadata": {},
     "output_type": "display_data"
    },
    {
     "data": {
      "application/vnd.jupyter.widget-view+json": {
       "model_id": "3d674cc517d74566b1d87dcbaf1d1fdb",
       "version_major": 2,
       "version_minor": 0
      },
      "text/plain": [
       "Downloading:   0%|          | 0.00/850M [00:00<?, ?B/s]"
      ]
     },
     "metadata": {},
     "output_type": "display_data"
    }
   ],
   "source": [
    "nlp = pipeline(\"e2e-qg\", model=\"valhalla/t5-base-e2e-qg\")"
   ]
  },
  {
   "cell_type": "code",
   "execution_count": 20,
   "id": "98839798",
   "metadata": {},
   "outputs": [
    {
     "data": {
      "text/plain": [
       "[]"
      ]
     },
     "execution_count": 20,
     "metadata": {},
     "output_type": "execute_result"
    }
   ],
   "source": [
    "nlp(text7)"
   ]
  },
  {
   "cell_type": "code",
   "execution_count": null,
   "id": "ba00cb49",
   "metadata": {},
   "outputs": [],
   "source": []
  },
  {
   "cell_type": "code",
   "execution_count": null,
   "id": "2203ec29",
   "metadata": {},
   "outputs": [],
   "source": []
  },
  {
   "cell_type": "code",
   "execution_count": null,
   "id": "f7c53c66",
   "metadata": {},
   "outputs": [],
   "source": []
  }
 ],
 "metadata": {
  "kernelspec": {
   "display_name": "Python 3.10.4 64-bit",
   "language": "python",
   "name": "python3"
  },
  "language_info": {
   "codemirror_mode": {
    "name": "ipython",
    "version": 3
   },
   "file_extension": ".py",
   "mimetype": "text/x-python",
   "name": "python",
   "nbconvert_exporter": "python",
   "pygments_lexer": "ipython3",
   "version": "3.10.4"
  },
  "vscode": {
   "interpreter": {
    "hash": "268a003517095b3e00ec49a0832a87899bac50083c754616205934d33472dfcd"
   }
  }
 },
 "nbformat": 4,
 "nbformat_minor": 5
}
